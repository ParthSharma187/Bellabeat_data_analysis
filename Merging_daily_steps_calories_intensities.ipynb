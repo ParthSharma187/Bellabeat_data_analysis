{
 "cells": [
  {
   "cell_type": "code",
   "execution_count": 1,
   "id": "9ed85a62-4f3a-408e-a098-4ded1d54ba56",
   "metadata": {},
   "outputs": [],
   "source": [
    "import pandas as pd"
   ]
  },
  {
   "cell_type": "code",
   "execution_count": 90,
   "id": "6df13d83-09dd-4686-a785-74b1aff1f897",
   "metadata": {},
   "outputs": [],
   "source": [
    "df1 = pd.read_csv(r\"C:\\Users\\ankit\\Desktop\\Google DA Certificate\\Bellabeat Case Study\\Bellabeat Dataset\\Fitabase Data 4.12.16-5.12.16\\Merge them\\hourlyCalories_merged.csv\")"
   ]
  },
  {
   "cell_type": "code",
   "execution_count": 4,
   "id": "f31f1947-ba39-4f2f-8249-eeba9ef05338",
   "metadata": {},
   "outputs": [
    {
     "data": {
      "text/html": [
       "<div>\n",
       "<style scoped>\n",
       "    .dataframe tbody tr th:only-of-type {\n",
       "        vertical-align: middle;\n",
       "    }\n",
       "\n",
       "    .dataframe tbody tr th {\n",
       "        vertical-align: top;\n",
       "    }\n",
       "\n",
       "    .dataframe thead th {\n",
       "        text-align: right;\n",
       "    }\n",
       "</style>\n",
       "<table border=\"1\" class=\"dataframe\">\n",
       "  <thead>\n",
       "    <tr style=\"text-align: right;\">\n",
       "      <th></th>\n",
       "      <th>Id</th>\n",
       "      <th>ActivityHour</th>\n",
       "      <th>Calories</th>\n",
       "    </tr>\n",
       "  </thead>\n",
       "  <tbody>\n",
       "    <tr>\n",
       "      <th>0</th>\n",
       "      <td>1503960366</td>\n",
       "      <td>4/12/2016 12:00:00 AM</td>\n",
       "      <td>81</td>\n",
       "    </tr>\n",
       "    <tr>\n",
       "      <th>1</th>\n",
       "      <td>1503960366</td>\n",
       "      <td>4/12/2016 1:00:00 AM</td>\n",
       "      <td>61</td>\n",
       "    </tr>\n",
       "    <tr>\n",
       "      <th>2</th>\n",
       "      <td>1503960366</td>\n",
       "      <td>4/12/2016 2:00:00 AM</td>\n",
       "      <td>59</td>\n",
       "    </tr>\n",
       "    <tr>\n",
       "      <th>3</th>\n",
       "      <td>1503960366</td>\n",
       "      <td>4/12/2016 3:00:00 AM</td>\n",
       "      <td>47</td>\n",
       "    </tr>\n",
       "    <tr>\n",
       "      <th>4</th>\n",
       "      <td>1503960366</td>\n",
       "      <td>4/12/2016 4:00:00 AM</td>\n",
       "      <td>48</td>\n",
       "    </tr>\n",
       "  </tbody>\n",
       "</table>\n",
       "</div>"
      ],
      "text/plain": [
       "           Id           ActivityHour  Calories\n",
       "0  1503960366  4/12/2016 12:00:00 AM        81\n",
       "1  1503960366   4/12/2016 1:00:00 AM        61\n",
       "2  1503960366   4/12/2016 2:00:00 AM        59\n",
       "3  1503960366   4/12/2016 3:00:00 AM        47\n",
       "4  1503960366   4/12/2016 4:00:00 AM        48"
      ]
     },
     "execution_count": 4,
     "metadata": {},
     "output_type": "execute_result"
    }
   ],
   "source": [
    "df1.head()"
   ]
  },
  {
   "cell_type": "code",
   "execution_count": 91,
   "id": "bd4c48e0-f255-4a07-825b-86c33202fad9",
   "metadata": {},
   "outputs": [],
   "source": [
    "hourly_calories = df1"
   ]
  },
  {
   "cell_type": "code",
   "execution_count": 92,
   "id": "6fb6c888-2ce2-4924-8b18-8584250506d8",
   "metadata": {},
   "outputs": [
    {
     "data": {
      "text/html": [
       "<div>\n",
       "<style scoped>\n",
       "    .dataframe tbody tr th:only-of-type {\n",
       "        vertical-align: middle;\n",
       "    }\n",
       "\n",
       "    .dataframe tbody tr th {\n",
       "        vertical-align: top;\n",
       "    }\n",
       "\n",
       "    .dataframe thead th {\n",
       "        text-align: right;\n",
       "    }\n",
       "</style>\n",
       "<table border=\"1\" class=\"dataframe\">\n",
       "  <thead>\n",
       "    <tr style=\"text-align: right;\">\n",
       "      <th></th>\n",
       "      <th>Id</th>\n",
       "      <th>ActivityHour</th>\n",
       "      <th>Calories</th>\n",
       "    </tr>\n",
       "  </thead>\n",
       "  <tbody>\n",
       "    <tr>\n",
       "      <th>0</th>\n",
       "      <td>1503960366</td>\n",
       "      <td>4/12/2016 12:00:00 AM</td>\n",
       "      <td>81</td>\n",
       "    </tr>\n",
       "    <tr>\n",
       "      <th>1</th>\n",
       "      <td>1503960366</td>\n",
       "      <td>4/12/2016 1:00:00 AM</td>\n",
       "      <td>61</td>\n",
       "    </tr>\n",
       "    <tr>\n",
       "      <th>2</th>\n",
       "      <td>1503960366</td>\n",
       "      <td>4/12/2016 2:00:00 AM</td>\n",
       "      <td>59</td>\n",
       "    </tr>\n",
       "    <tr>\n",
       "      <th>3</th>\n",
       "      <td>1503960366</td>\n",
       "      <td>4/12/2016 3:00:00 AM</td>\n",
       "      <td>47</td>\n",
       "    </tr>\n",
       "    <tr>\n",
       "      <th>4</th>\n",
       "      <td>1503960366</td>\n",
       "      <td>4/12/2016 4:00:00 AM</td>\n",
       "      <td>48</td>\n",
       "    </tr>\n",
       "  </tbody>\n",
       "</table>\n",
       "</div>"
      ],
      "text/plain": [
       "           Id           ActivityHour  Calories\n",
       "0  1503960366  4/12/2016 12:00:00 AM        81\n",
       "1  1503960366   4/12/2016 1:00:00 AM        61\n",
       "2  1503960366   4/12/2016 2:00:00 AM        59\n",
       "3  1503960366   4/12/2016 3:00:00 AM        47\n",
       "4  1503960366   4/12/2016 4:00:00 AM        48"
      ]
     },
     "execution_count": 92,
     "metadata": {},
     "output_type": "execute_result"
    }
   ],
   "source": [
    "hourly_calories.head()"
   ]
  },
  {
   "cell_type": "code",
   "execution_count": 93,
   "id": "ab50c309-ce1b-4955-9c0b-8aa0e863f1d5",
   "metadata": {},
   "outputs": [],
   "source": [
    "hourly_intensitites = pd.read_csv(r\"C:\\Users\\ankit\\Desktop\\Google DA Certificate\\Bellabeat Case Study\\Bellabeat Dataset\\Fitabase Data 4.12.16-5.12.16\\Merge them\\hourlyIntensities_merged.csv\")"
   ]
  },
  {
   "cell_type": "code",
   "execution_count": 94,
   "id": "10ed6331-b1b1-4114-ad1e-4980ad163f9d",
   "metadata": {},
   "outputs": [
    {
     "data": {
      "text/html": [
       "<div>\n",
       "<style scoped>\n",
       "    .dataframe tbody tr th:only-of-type {\n",
       "        vertical-align: middle;\n",
       "    }\n",
       "\n",
       "    .dataframe tbody tr th {\n",
       "        vertical-align: top;\n",
       "    }\n",
       "\n",
       "    .dataframe thead th {\n",
       "        text-align: right;\n",
       "    }\n",
       "</style>\n",
       "<table border=\"1\" class=\"dataframe\">\n",
       "  <thead>\n",
       "    <tr style=\"text-align: right;\">\n",
       "      <th></th>\n",
       "      <th>Id</th>\n",
       "      <th>ActivityHour</th>\n",
       "      <th>TotalIntensity</th>\n",
       "      <th>AverageIntensity</th>\n",
       "    </tr>\n",
       "  </thead>\n",
       "  <tbody>\n",
       "    <tr>\n",
       "      <th>0</th>\n",
       "      <td>1503960366</td>\n",
       "      <td>2016-04-12 00:00:00</td>\n",
       "      <td>20</td>\n",
       "      <td>0.333333</td>\n",
       "    </tr>\n",
       "    <tr>\n",
       "      <th>1</th>\n",
       "      <td>1503960366</td>\n",
       "      <td>2016-04-12 01:00:00</td>\n",
       "      <td>8</td>\n",
       "      <td>0.133333</td>\n",
       "    </tr>\n",
       "    <tr>\n",
       "      <th>2</th>\n",
       "      <td>1503960366</td>\n",
       "      <td>2016-04-12 02:00:00</td>\n",
       "      <td>7</td>\n",
       "      <td>0.116667</td>\n",
       "    </tr>\n",
       "    <tr>\n",
       "      <th>3</th>\n",
       "      <td>1503960366</td>\n",
       "      <td>2016-04-12 03:00:00</td>\n",
       "      <td>0</td>\n",
       "      <td>0.000000</td>\n",
       "    </tr>\n",
       "    <tr>\n",
       "      <th>4</th>\n",
       "      <td>1503960366</td>\n",
       "      <td>2016-04-12 04:00:00</td>\n",
       "      <td>0</td>\n",
       "      <td>0.000000</td>\n",
       "    </tr>\n",
       "  </tbody>\n",
       "</table>\n",
       "</div>"
      ],
      "text/plain": [
       "           Id        ActivityHour  TotalIntensity  AverageIntensity\n",
       "0  1503960366 2016-04-12 00:00:00              20          0.333333\n",
       "1  1503960366 2016-04-12 01:00:00               8          0.133333\n",
       "2  1503960366 2016-04-12 02:00:00               7          0.116667\n",
       "3  1503960366 2016-04-12 03:00:00               0          0.000000\n",
       "4  1503960366 2016-04-12 04:00:00               0          0.000000"
      ]
     },
     "execution_count": 94,
     "metadata": {},
     "output_type": "execute_result"
    }
   ],
   "source": [
    "hourly_intensities.head()"
   ]
  },
  {
   "cell_type": "code",
   "execution_count": 95,
   "id": "fc284333-a645-475f-856d-f41d5743fba8",
   "metadata": {},
   "outputs": [],
   "source": [
    "hourly_intensities = hourly_intensitites\n"
   ]
  },
  {
   "cell_type": "code",
   "execution_count": 96,
   "id": "1248358e-658e-4063-9ac5-57800ee31bee",
   "metadata": {},
   "outputs": [],
   "source": [
    "hourly_steps = pd.read_csv(r\"C:\\Users\\ankit\\Desktop\\Google DA Certificate\\Bellabeat Case Study\\Bellabeat Dataset\\Fitabase Data 4.12.16-5.12.16\\Merge them\\hourlySteps_merged.csv\")"
   ]
  },
  {
   "cell_type": "code",
   "execution_count": 97,
   "id": "33954d81-9018-4875-bd67-9ce7650a2884",
   "metadata": {},
   "outputs": [
    {
     "data": {
      "text/html": [
       "<div>\n",
       "<style scoped>\n",
       "    .dataframe tbody tr th:only-of-type {\n",
       "        vertical-align: middle;\n",
       "    }\n",
       "\n",
       "    .dataframe tbody tr th {\n",
       "        vertical-align: top;\n",
       "    }\n",
       "\n",
       "    .dataframe thead th {\n",
       "        text-align: right;\n",
       "    }\n",
       "</style>\n",
       "<table border=\"1\" class=\"dataframe\">\n",
       "  <thead>\n",
       "    <tr style=\"text-align: right;\">\n",
       "      <th></th>\n",
       "      <th>Id</th>\n",
       "      <th>ActivityHour</th>\n",
       "      <th>StepTotal</th>\n",
       "    </tr>\n",
       "  </thead>\n",
       "  <tbody>\n",
       "    <tr>\n",
       "      <th>0</th>\n",
       "      <td>1503960366</td>\n",
       "      <td>4/12/2016 12:00:00 AM</td>\n",
       "      <td>373</td>\n",
       "    </tr>\n",
       "    <tr>\n",
       "      <th>1</th>\n",
       "      <td>1503960366</td>\n",
       "      <td>4/12/2016 1:00:00 AM</td>\n",
       "      <td>160</td>\n",
       "    </tr>\n",
       "    <tr>\n",
       "      <th>2</th>\n",
       "      <td>1503960366</td>\n",
       "      <td>4/12/2016 2:00:00 AM</td>\n",
       "      <td>151</td>\n",
       "    </tr>\n",
       "    <tr>\n",
       "      <th>3</th>\n",
       "      <td>1503960366</td>\n",
       "      <td>4/12/2016 3:00:00 AM</td>\n",
       "      <td>0</td>\n",
       "    </tr>\n",
       "    <tr>\n",
       "      <th>4</th>\n",
       "      <td>1503960366</td>\n",
       "      <td>4/12/2016 4:00:00 AM</td>\n",
       "      <td>0</td>\n",
       "    </tr>\n",
       "  </tbody>\n",
       "</table>\n",
       "</div>"
      ],
      "text/plain": [
       "           Id           ActivityHour  StepTotal\n",
       "0  1503960366  4/12/2016 12:00:00 AM        373\n",
       "1  1503960366   4/12/2016 1:00:00 AM        160\n",
       "2  1503960366   4/12/2016 2:00:00 AM        151\n",
       "3  1503960366   4/12/2016 3:00:00 AM          0\n",
       "4  1503960366   4/12/2016 4:00:00 AM          0"
      ]
     },
     "execution_count": 97,
     "metadata": {},
     "output_type": "execute_result"
    }
   ],
   "source": [
    "hourly_steps.head()"
   ]
  },
  {
   "cell_type": "code",
   "execution_count": 98,
   "id": "849210b2-f8b5-4cc4-94e3-35b19d2646d5",
   "metadata": {},
   "outputs": [
    {
     "data": {
      "text/plain": [
       "0        False\n",
       "1        False\n",
       "2        False\n",
       "3        False\n",
       "4        False\n",
       "         ...  \n",
       "22094    False\n",
       "22095    False\n",
       "22096    False\n",
       "22097    False\n",
       "22098    False\n",
       "Length: 22099, dtype: bool"
      ]
     },
     "execution_count": 98,
     "metadata": {},
     "output_type": "execute_result"
    }
   ],
   "source": [
    "hourly_calories.duplicated()"
   ]
  },
  {
   "cell_type": "code",
   "execution_count": 99,
   "id": "1fe4b8f9-4674-427d-887b-7d2fcc76062b",
   "metadata": {},
   "outputs": [
    {
     "data": {
      "text/plain": [
       "0        False\n",
       "1        False\n",
       "2        False\n",
       "3        False\n",
       "4        False\n",
       "         ...  \n",
       "22094    False\n",
       "22095    False\n",
       "22096    False\n",
       "22097    False\n",
       "22098    False\n",
       "Length: 22099, dtype: bool"
      ]
     },
     "execution_count": 99,
     "metadata": {},
     "output_type": "execute_result"
    }
   ],
   "source": [
    "hourly_intensitites.duplicated()"
   ]
  },
  {
   "cell_type": "code",
   "execution_count": 100,
   "id": "a219c7f1-4a9b-477d-9317-e34bc4d54814",
   "metadata": {},
   "outputs": [
    {
     "data": {
      "text/plain": [
       "0        False\n",
       "1        False\n",
       "2        False\n",
       "3        False\n",
       "4        False\n",
       "         ...  \n",
       "22094    False\n",
       "22095    False\n",
       "22096    False\n",
       "22097    False\n",
       "22098    False\n",
       "Length: 22099, dtype: bool"
      ]
     },
     "execution_count": 100,
     "metadata": {},
     "output_type": "execute_result"
    }
   ],
   "source": [
    "hourly_steps.duplicated()"
   ]
  },
  {
   "cell_type": "code",
   "execution_count": 101,
   "id": "61785824-f678-4c5b-8360-abc9bc33fb6c",
   "metadata": {},
   "outputs": [],
   "source": [
    "duplicates  = hourly_calories.duplicated()"
   ]
  },
  {
   "cell_type": "code",
   "execution_count": 102,
   "id": "eadd0e68-1c3b-4444-bfe3-1223cfc60d42",
   "metadata": {},
   "outputs": [
    {
     "name": "stdout",
     "output_type": "stream",
     "text": [
      "Number of duplicate rows: 0\n"
     ]
    }
   ],
   "source": [
    "num_duplicates = duplicates.sum()\n",
    "print(f'Number of duplicate rows: {num_duplicates}')"
   ]
  },
  {
   "cell_type": "code",
   "execution_count": 103,
   "id": "edb68441-f5a7-4ef6-8470-895f579df0db",
   "metadata": {},
   "outputs": [],
   "source": [
    "hourly_steps=hourly_steps.dropna()"
   ]
  },
  {
   "cell_type": "code",
   "execution_count": 104,
   "id": "fba30c66-f116-43ff-bbd1-786120d0585d",
   "metadata": {},
   "outputs": [],
   "source": [
    "hourly_calories=hourly_calories.dropna()"
   ]
  },
  {
   "cell_type": "code",
   "execution_count": 105,
   "id": "b1708c43-cf17-46ad-af5d-0b7912a6afb2",
   "metadata": {},
   "outputs": [
    {
     "name": "stdout",
     "output_type": "stream",
     "text": [
      "False\n"
     ]
    }
   ],
   "source": [
    "hourly_intensities_missing = hourly_intensities.isnull().values.any()\n",
    "print(f'{hourly_intensities_missing}')"
   ]
  },
  {
   "cell_type": "code",
   "execution_count": 106,
   "id": "53161ecc-a142-4376-b944-336829d1194b",
   "metadata": {},
   "outputs": [],
   "source": [
    "hourly_intensities = hourly_intensities.dropna()"
   ]
  },
  {
   "cell_type": "code",
   "execution_count": 119,
   "id": "4c0b38ba-8eb4-48a2-bab1-6b2414a31f38",
   "metadata": {},
   "outputs": [],
   "source": [
    "hourly_calories['Id'] = hourly_calories['Id'].astype('str')\n",
    "hourly_calories['ActivityHour'] = pd.to_datetime(hourly_calories['ActivityHour'], format='%m/%d/%Y %I:%M:%S %p')"
   ]
  },
  {
   "cell_type": "code",
   "execution_count": 118,
   "id": "056984ac-5815-4a04-95c1-f1611a02a3c8",
   "metadata": {},
   "outputs": [],
   "source": [
    "hourly_intensities['Id'] = hourly_intensities['Id'].astype('str')\n",
    "hourly_intensities['TotalIntensity'] = hourly_intensities['TotalIntensity'].astype('int32')\n",
    "hourly_intensities['AverageIntensity'] = hourly_intensities['AverageIntensity'].astype('float32')\n",
    "hourly_intensities['ActivityHour'] = pd.to_datetime(hourly_calories['ActivityHour'], format='%m/%d/%Y %I:%M:%S %p')"
   ]
  },
  {
   "cell_type": "code",
   "execution_count": 116,
   "id": "11ba75ed-184f-414d-ba07-4b468de1aee1",
   "metadata": {},
   "outputs": [],
   "source": [
    "hourly_steps['Id'] = hourly_steps['Id'].astype(str)\n",
    "hourly_steps['StepTotal'] = hourly_steps['StepTotal'].astype('int32')"
   ]
  },
  {
   "cell_type": "code",
   "execution_count": 117,
   "id": "b6b3f27a-26da-4bc1-8e3e-69c4f0ae183e",
   "metadata": {},
   "outputs": [],
   "source": [
    "hourly_steps['ActivityHour'] = pd.to_datetime(hourly_steps['ActivityHour'], format='%m/%d/%Y %I:%M:%S %p')\n"
   ]
  },
  {
   "cell_type": "code",
   "execution_count": 111,
   "id": "26e13efa-4e5a-410e-8b93-91ed898d5d57",
   "metadata": {},
   "outputs": [
    {
     "data": {
      "text/plain": [
       "<bound method NDFrame.head of                Id           ActivityHour  Calories\n",
       "0      1503960366  4/12/2016 12:00:00 AM        81\n",
       "1      1503960366   4/12/2016 1:00:00 AM        61\n",
       "2      1503960366   4/12/2016 2:00:00 AM        59\n",
       "3      1503960366   4/12/2016 3:00:00 AM        47\n",
       "4      1503960366   4/12/2016 4:00:00 AM        48\n",
       "...           ...                    ...       ...\n",
       "22094  8877689391  5/12/2016 10:00:00 AM       126\n",
       "22095  8877689391  5/12/2016 11:00:00 AM       192\n",
       "22096  8877689391  5/12/2016 12:00:00 PM       321\n",
       "22097  8877689391   5/12/2016 1:00:00 PM       101\n",
       "22098  8877689391   5/12/2016 2:00:00 PM       113\n",
       "\n",
       "[22099 rows x 3 columns]>"
      ]
     },
     "execution_count": 111,
     "metadata": {},
     "output_type": "execute_result"
    }
   ],
   "source": [
    "hourly_calories.head"
   ]
  },
  {
   "cell_type": "code",
   "execution_count": 112,
   "id": "c05ccac0-2ca4-442b-b2fb-7f31c6a37a96",
   "metadata": {},
   "outputs": [
    {
     "name": "stdout",
     "output_type": "stream",
     "text": [
      "Id                      object\n",
      "ActivityHour    datetime64[ns]\n",
      "StepTotal                int64\n",
      "dtype: object\n"
     ]
    }
   ],
   "source": [
    "column_dtypes = hourly_steps.dtypes\n",
    "print(column_dtypes)"
   ]
  },
  {
   "cell_type": "code",
   "execution_count": 120,
   "id": "038c8f09-983f-432a-9003-b437fc409ca0",
   "metadata": {},
   "outputs": [],
   "source": [
    "hourly_calories_intensities_steps = hourly_calories.merge(hourly_intensities, on=['Id','ActivityHour'], how='outer').merge(hourly_steps, on=['Id','ActivityHour'], how='outer')"
   ]
  },
  {
   "cell_type": "code",
   "execution_count": 121,
   "id": "a1d119f2-cc26-48ce-b751-21908d76fac9",
   "metadata": {},
   "outputs": [
    {
     "data": {
      "text/plain": [
       "(22099, 6)"
      ]
     },
     "execution_count": 121,
     "metadata": {},
     "output_type": "execute_result"
    }
   ],
   "source": [
    "hourly_calories_intensities_steps.shape"
   ]
  },
  {
   "cell_type": "code",
   "execution_count": 134,
   "id": "f271625a-c6d5-4b76-a735-65e15d10631d",
   "metadata": {},
   "outputs": [
    {
     "data": {
      "text/plain": [
       "<bound method NDFrame.head of                Id        ActivityHour  Calories  TotalIntensity  \\\n",
       "0      1503960366 2016-04-12 00:00:00        81              20   \n",
       "1      1503960366 2016-04-12 01:00:00        61               8   \n",
       "2      1503960366 2016-04-12 02:00:00        59               7   \n",
       "3      1503960366 2016-04-12 03:00:00        47               0   \n",
       "4      1503960366 2016-04-12 04:00:00        48               0   \n",
       "...           ...                 ...       ...             ...   \n",
       "22094  8877689391 2016-05-12 10:00:00       126              12   \n",
       "22095  8877689391 2016-05-12 11:00:00       192              29   \n",
       "22096  8877689391 2016-05-12 12:00:00       321              93   \n",
       "22097  8877689391 2016-05-12 13:00:00       101               6   \n",
       "22098  8877689391 2016-05-12 14:00:00       113               9   \n",
       "\n",
       "       AverageIntensity  StepTotal  \n",
       "0              0.333333        373  \n",
       "1              0.133333        160  \n",
       "2              0.116667        151  \n",
       "3              0.000000          0  \n",
       "4              0.000000          0  \n",
       "...                 ...        ...  \n",
       "22094          0.200000        514  \n",
       "22095          0.483333       1407  \n",
       "22096          1.550000       3135  \n",
       "22097          0.100000        307  \n",
       "22098          0.150000        457  \n",
       "\n",
       "[22099 rows x 6 columns]>"
      ]
     },
     "execution_count": 134,
     "metadata": {},
     "output_type": "execute_result"
    }
   ],
   "source": [
    "hourly_calories_intensities_steps.head"
   ]
  },
  {
   "cell_type": "code",
   "execution_count": 78,
   "id": "abdc6e64-c59f-4d00-8920-b067716ebf96",
   "metadata": {},
   "outputs": [
    {
     "name": "stdout",
     "output_type": "stream",
     "text": [
      "Requirement already satisfied: pandas in c:\\users\\ankit\\anaconda3\\lib\\site-packages (2.1.4)Note: you may need to restart the kernel to use updated packages.\n",
      "\n",
      "Requirement already satisfied: openpyxl in c:\\users\\ankit\\anaconda3\\lib\\site-packages (3.0.10)\n",
      "Requirement already satisfied: numpy<2,>=1.23.2 in c:\\users\\ankit\\anaconda3\\lib\\site-packages (from pandas) (1.26.4)\n",
      "Requirement already satisfied: python-dateutil>=2.8.2 in c:\\users\\ankit\\anaconda3\\lib\\site-packages (from pandas) (2.8.2)\n",
      "Requirement already satisfied: pytz>=2020.1 in c:\\users\\ankit\\anaconda3\\lib\\site-packages (from pandas) (2023.3.post1)\n",
      "Requirement already satisfied: tzdata>=2022.1 in c:\\users\\ankit\\anaconda3\\lib\\site-packages (from pandas) (2023.3)\n",
      "Requirement already satisfied: et_xmlfile in c:\\users\\ankit\\anaconda3\\lib\\site-packages (from openpyxl) (1.1.0)\n",
      "Requirement already satisfied: six>=1.5 in c:\\users\\ankit\\anaconda3\\lib\\site-packages (from python-dateutil>=2.8.2->pandas) (1.16.0)\n"
     ]
    }
   ],
   "source": [
    "pip install pandas openpyxl\n"
   ]
  },
  {
   "cell_type": "code",
   "execution_count": 123,
   "id": "67cff7a7-7906-484b-8225-5970d2dbb15c",
   "metadata": {},
   "outputs": [
    {
     "data": {
      "text/html": [
       "<a href='hourly_calories_intensities_steps.xlsx' target='_blank'>hourly_calories_intensities_steps.xlsx</a><br>"
      ],
      "text/plain": [
       "C:\\Users\\ankit\\hourly_calories_intensities_steps.xlsx"
      ]
     },
     "execution_count": 123,
     "metadata": {},
     "output_type": "execute_result"
    }
   ],
   "source": [
    "from IPython.display import FileLink\n",
    "import pandas as pd\n",
    "# Save the dataframe to an Excel file\n",
    "file_path = 'hourly_calories_intensities_steps.xlsx'\n",
    "hourly_calories_intensities_steps.to_excel(file_path, index=False, engine='openpyxl')\n",
    "\n",
    "# Create a download link\n",
    "FileLink(file_path)"
   ]
  },
  {
   "cell_type": "code",
   "execution_count": 137,
   "id": "f42e13f0-de0a-4d38-a82a-e0542b01df1e",
   "metadata": {},
   "outputs": [
    {
     "data": {
      "image/png": "[encoded data removed]",
      "text/plain": [
       "<Figure size 600x400 with 1 Axes>"
      ]
     },
     "metadata": {},
     "output_type": "display_data"
    }
   ],
   "source": [
    "#Hourly Analysis of Calories vs Steps\n",
    "\n",
    "import matplotlib.pyplot as plt\n",
    "plt.figure(figsize=(6,4))\n",
    "plt.scatter(hourly_calories_intensities_steps['Calories'], hourly_calories_intensities_steps['StepTotal'], label='Data Points')\n",
    "\n",
    "plt.xlabel('Calories')\n",
    "plt.ylabel('StepTotal')\n",
    "plt.title('Hourly Analysis of Calories vs Steps')\n",
    "plt.legend()\n",
    "plt.grid(True)\n",
    "plt.show()"
   ]
  },
  {
   "cell_type": "code",
   "execution_count": 142,
   "id": "81d2af38-8fda-4dee-8a88-0913b05e0468",
   "metadata": {},
   "outputs": [
    {
     "data": {
      "text/plain": [
       "' ANALYSIS\\n1. Found that the co-relation co-efficient is almost equal to +1. This means that the steps and calories have been related well.\\n2. Found some outliers that some person walked more than 10k steps in an hour. \\n'"
      ]
     },
     "execution_count": 142,
     "metadata": {},
     "output_type": "execute_result"
    }
   ],
   "source": [
    "\"\"\" ANALYSIS\n",
    "1. Found that the co-relation co-efficient is almost equal to +1. This means that the steps and calories have been related well.\n",
    "2. Found some outliers that some person walked more than 10k steps in an hour. \n",
    "\"\"\""
   ]
  },
  {
   "cell_type": "code",
   "execution_count": 169,
   "id": "4b822608-7a2c-447f-a240-d3346f7c7056",
   "metadata": {},
   "outputs": [],
   "source": [
    "# Specify the ID you want to filter by\n",
    "specific_id = '1503960366'\n",
    "\n",
    "# Filter DataFrame for the specific ID\n",
    "df_specific_id = df[df['Id'] == specific_id]"
   ]
  },
  {
   "cell_type": "code",
   "execution_count": 170,
   "id": "0c73f12f-53c6-4fc1-92ba-ac13373e7d37",
   "metadata": {},
   "outputs": [
    {
     "data": {
      "text/plain": [
       "<bound method NDFrame.head of              Id        ActivityHour  Calories  TotalIntensity  \\\n",
       "0    1503960366 2016-04-12 00:00:00        81              20   \n",
       "1    1503960366 2016-04-12 01:00:00        61               8   \n",
       "2    1503960366 2016-04-12 02:00:00        59               7   \n",
       "3    1503960366 2016-04-12 03:00:00        47               0   \n",
       "4    1503960366 2016-04-12 04:00:00        48               0   \n",
       "..          ...                 ...       ...             ...   \n",
       "712  1503960366 2016-05-11 16:00:00        70               7   \n",
       "713  1503960366 2016-05-11 17:00:00        67               7   \n",
       "714  1503960366 2016-05-11 18:00:00       208             102   \n",
       "715  1503960366 2016-05-11 19:00:00        90              30   \n",
       "716  1503960366 2016-05-11 20:00:00       114              42   \n",
       "\n",
       "     AverageIntensity  StepTotal  Hour  \n",
       "0            0.333333        373     0  \n",
       "1            0.133333        160     1  \n",
       "2            0.116667        151     2  \n",
       "3            0.000000          0     3  \n",
       "4            0.000000          0     4  \n",
       "..                ...        ...   ...  \n",
       "712          0.116667        289    16  \n",
       "713          0.116667        245    17  \n",
       "714          1.700000       3449    18  \n",
       "715          0.500000        293    19  \n",
       "716          0.700000       1209    20  \n",
       "\n",
       "[717 rows x 7 columns]>"
      ]
     },
     "execution_count": 170,
     "metadata": {},
     "output_type": "execute_result"
    }
   ],
   "source": [
    "df_specific_id.head"
   ]
  },
  {
   "cell_type": "code",
   "execution_count": 174,
   "id": "bb1486b4-f62d-4d48-8653-02b7b1b121de",
   "metadata": {},
   "outputs": [],
   "source": [
    "# Extract the hour from the ActivityHour column\n",
    "#df_specific_id['Hour'] = df_specific_id['ActivityHour'].dt.hour\n",
    "df.loc[df['Id'] == specific_id, 'Hour'] = df.loc[df['Id'] == specific_id, 'ActivityHour'].dt.hour\n",
    "# Group by hour and calculate the mean of Calories and Steps\n",
    "hourly_avg = df_specific_id.groupby('Hour').agg({'Calories': 'mean', 'StepTotal': 'mean'}).reset_index()"
   ]
  },
  {
   "cell_type": "code",
   "execution_count": 175,
   "id": "0fa46f52-fbcb-46cf-873e-fab870de016e",
   "metadata": {},
   "outputs": [
    {
     "name": "stdout",
     "output_type": "stream",
     "text": [
      "    Hour    Calories    StepTotal\n",
      "0      0   60.966667   142.666667\n",
      "1      1   53.866667    50.100000\n",
      "2      2   50.266667    29.000000\n",
      "3      3   48.633333    11.833333\n",
      "4      4   47.700000     3.600000\n",
      "5      5   47.566667     2.100000\n",
      "6      6   48.900000    15.500000\n",
      "7      7   51.233333    39.200000\n",
      "8      8   62.533333   188.033333\n",
      "9      9  105.833333  1085.333333\n",
      "10    10   80.600000   451.200000\n",
      "11    11   79.700000   474.966667\n",
      "12    12   83.500000   553.266667\n",
      "13    13   89.133333   696.000000\n",
      "14    14   90.533333   720.100000\n",
      "15    15   78.200000   456.766667\n",
      "16    16   84.800000   579.100000\n",
      "17    17   90.300000   697.433333\n",
      "18    18  128.466667  1556.100000\n",
      "19    19  104.966667   971.700000\n",
      "20    20  105.733333  1089.266667\n",
      "21    21  117.172414  1334.000000\n",
      "22    22   87.034483   682.758621\n",
      "23    23   88.344828   746.965517\n"
     ]
    }
   ],
   "source": [
    "print(hourly_avg)"
   ]
  },
  {
   "cell_type": "code",
   "execution_count": 176,
   "id": "d705ff46-3e0a-47ce-9b66-09a41eac7802",
   "metadata": {},
   "outputs": [
    {
     "data": {
      "text/plain": [
       "<bound method NDFrame.head of              Id        ActivityHour  Calories  TotalIntensity  \\\n",
       "0    1503960366 2016-04-12 00:00:00        81              20   \n",
       "1    1503960366 2016-04-12 01:00:00        61               8   \n",
       "2    1503960366 2016-04-12 02:00:00        59               7   \n",
       "3    1503960366 2016-04-12 03:00:00        47               0   \n",
       "4    1503960366 2016-04-12 04:00:00        48               0   \n",
       "..          ...                 ...       ...             ...   \n",
       "712  1503960366 2016-05-11 16:00:00        70               7   \n",
       "713  1503960366 2016-05-11 17:00:00        67               7   \n",
       "714  1503960366 2016-05-11 18:00:00       208             102   \n",
       "715  1503960366 2016-05-11 19:00:00        90              30   \n",
       "716  1503960366 2016-05-11 20:00:00       114              42   \n",
       "\n",
       "     AverageIntensity  StepTotal  Hour  \n",
       "0            0.333333        373     0  \n",
       "1            0.133333        160     1  \n",
       "2            0.116667        151     2  \n",
       "3            0.000000          0     3  \n",
       "4            0.000000          0     4  \n",
       "..                ...        ...   ...  \n",
       "712          0.116667        289    16  \n",
       "713          0.116667        245    17  \n",
       "714          1.700000       3449    18  \n",
       "715          0.500000        293    19  \n",
       "716          0.700000       1209    20  \n",
       "\n",
       "[717 rows x 7 columns]>"
      ]
     },
     "execution_count": 176,
     "metadata": {},
     "output_type": "execute_result"
    }
   ],
   "source": [
    "df_specific_id.head"
   ]
  },
  {
   "cell_type": "code",
   "execution_count": 167,
   "id": "d7895e68-b959-47f7-8d5f-ff4ec86004ef",
   "metadata": {},
   "outputs": [
    {
     "name": "stdout",
     "output_type": "stream",
     "text": [
      "object\n"
     ]
    }
   ],
   "source": [
    "print(df['Id'].dtype)\n"
   ]
  },
  {
   "cell_type": "code",
   "execution_count": 179,
   "id": "9f032b29-fffc-4bff-9629-b90174a97413",
   "metadata": {},
   "outputs": [
    {
     "data": {
      "image/png": "[encoded data removed]",
      "text/plain": [
       "<Figure size 800x400 with 1 Axes>"
      ]
     },
     "metadata": {},
     "output_type": "display_data"
    }
   ],
   "source": [
    "# Plotting\n",
    "plt.figure(figsize=(8, 4))\n",
    "plt.plot(hourly_avg['Hour'], hourly_avg['Calories'], label='Calories', color='red')\n",
    "#plt.plot(hourly_avg['Hour'], hourly_avg['StepTotal'], label='Steps', color='blue')\n",
    "plt.xlabel('Hour of the Day')\n",
    "plt.ylabel('Average Value')\n",
    "plt.title(f'Average Calories and Steps on Hourly Basis for ID {specific_id}')\n",
    "plt.legend()\n",
    "plt.grid(True)\n",
    "plt.xticks(hourly_avg['Hour'])\n",
    "plt.show()"
   ]
  },
  {
   "cell_type": "code",
   "execution_count": 182,
   "id": "f0f41441-d3ac-46b2-8375-0cb448fe8485",
   "metadata": {},
   "outputs": [
    {
     "data": {
      "image/png": "[encoded data removed]",
      "text/plain": [
       "<Figure size 800x400 with 1 Axes>"
      ]
     },
     "metadata": {},
     "output_type": "display_data"
    }
   ],
   "source": [
    "# Plotting\n",
    "plt.figure(figsize=(8, 4))\n",
    "#plt.plot(hourly_avg['Hour'], hourly_avg['Calories'], label='Calories', color='red')\n",
    "plt.plot(hourly_avg['Hour'], hourly_avg['StepTotal'], label='Steps', color='blue')\n",
    "plt.xlabel('Hour of the Day')\n",
    "plt.ylabel('Average Value')\n",
    "plt.title(f'Average Calories and Steps on Hourly Basis for ID {specific_id}')\n",
    "plt.legend()\n",
    "plt.grid(True)\n",
    "plt.xticks(hourly_avg['Hour'])\n",
    "plt.show()"
   ]
  },
  {
   "cell_type": "code",
   "execution_count": null,
   "id": "62eb095e-5486-479e-b707-b78f1c851108",
   "metadata": {},
   "outputs": [],
   "source": []
  }
 ],
 "metadata": {
  "kernelspec": {
   "display_name": "Python 3 (ipykernel)",
   "language": "python",
   "name": "python3"
  },
  "language_info": {
   "codemirror_mode": {
    "name": "ipython",
    "version": 3
   },
   "file_extension": ".py",
   "mimetype": "text/x-python",
   "name": "python",
   "nbconvert_exporter": "python",
   "pygments_lexer": "ipython3",
   "version": "3.11.7"
  }
 },
 "nbformat": 4,
 "nbformat_minor": 5
}
