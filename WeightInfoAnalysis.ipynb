{
 "cells": [
  {
   "cell_type": "code",
   "execution_count": 3,
   "id": "2a4df9a9-4715-4f88-abc1-e4f033f838ba",
   "metadata": {},
   "outputs": [],
   "source": [
    "import pandas as pd\n",
    "df1 = pd.read_csv(r\"C:\\Users\\ankit\\Desktop\\Google DA Certificate\\Bellabeat Case Study\\Bellabeat Dataset\\Fitabase Data 4.12.16-5.12.16\\weightLogInfo_merged.csv\")"
   ]
  },
  {
   "cell_type": "code",
   "execution_count": 4,
   "id": "4a210ddd-fc12-4743-b20f-dd873c6844b1",
   "metadata": {},
   "outputs": [
    {
     "data": {
      "text/plain": [
       "<bound method NDFrame.head of             Id                   Date    WeightKg  WeightPounds   Fat  \\\n",
       "0   1503960366   5/2/2016 11:59:59 PM   52.599998    115.963147  22.0   \n",
       "1   1503960366   5/3/2016 11:59:59 PM   52.599998    115.963147   NaN   \n",
       "2   1927972279   4/13/2016 1:08:52 AM  133.500000    294.317120   NaN   \n",
       "3   2873212765  4/21/2016 11:59:59 PM   56.700001    125.002104   NaN   \n",
       "4   2873212765  5/12/2016 11:59:59 PM   57.299999    126.324875   NaN   \n",
       "..         ...                    ...         ...           ...   ...   \n",
       "62  8877689391    5/6/2016 6:43:35 AM   85.000000    187.392923   NaN   \n",
       "63  8877689391    5/8/2016 7:35:53 AM   85.400002    188.274775   NaN   \n",
       "64  8877689391    5/9/2016 6:39:44 AM   85.500000    188.495234   NaN   \n",
       "65  8877689391   5/11/2016 6:51:47 AM   85.400002    188.274775   NaN   \n",
       "66  8877689391   5/12/2016 6:42:53 AM   84.000000    185.188300   NaN   \n",
       "\n",
       "          BMI  IsManualReport          LogId  \n",
       "0   22.650000            True  1462233599000  \n",
       "1   22.650000            True  1462319999000  \n",
       "2   47.540001           False  1460509732000  \n",
       "3   21.450001            True  1461283199000  \n",
       "4   21.690001            True  1463097599000  \n",
       "..        ...             ...            ...  \n",
       "62  25.440001           False  1462517015000  \n",
       "63  25.559999           False  1462692953000  \n",
       "64  25.610001           False  1462775984000  \n",
       "65  25.559999           False  1462949507000  \n",
       "66  25.139999           False  1463035373000  \n",
       "\n",
       "[67 rows x 8 columns]>"
      ]
     },
     "execution_count": 4,
     "metadata": {},
     "output_type": "execute_result"
    }
   ],
   "source": [
    "df1.head"
   ]
  },
  {
   "cell_type": "code",
   "execution_count": 7,
   "id": "6bb6a9df-2149-43e7-b1b1-de69c4be9526",
   "metadata": {},
   "outputs": [
    {
     "name": "stdout",
     "output_type": "stream",
     "text": [
      "            Id                   Date    WeightKg  WeightPounds   Fat  \\\n",
      "0   1503960366   5/2/2016 11:59:59 PM   52.599998    115.963147  22.0   \n",
      "1   1503960366   5/3/2016 11:59:59 PM   52.599998    115.963147   NaN   \n",
      "2   1927972279   4/13/2016 1:08:52 AM  133.500000    294.317120   NaN   \n",
      "3   2873212765  4/21/2016 11:59:59 PM   56.700001    125.002104   NaN   \n",
      "4   2873212765  5/12/2016 11:59:59 PM   57.299999    126.324875   NaN   \n",
      "..         ...                    ...         ...           ...   ...   \n",
      "62  8877689391    5/6/2016 6:43:35 AM   85.000000    187.392923   NaN   \n",
      "63  8877689391    5/8/2016 7:35:53 AM   85.400002    188.274775   NaN   \n",
      "64  8877689391    5/9/2016 6:39:44 AM   85.500000    188.495234   NaN   \n",
      "65  8877689391   5/11/2016 6:51:47 AM   85.400002    188.274775   NaN   \n",
      "66  8877689391   5/12/2016 6:42:53 AM   84.000000    185.188300   NaN   \n",
      "\n",
      "          BMI  IsManualReport          LogId   BMI Category  \n",
      "0   22.650000            True  1462233599000  Normal weight  \n",
      "1   22.650000            True  1462319999000  Normal weight  \n",
      "2   47.540001           False  1460509732000        Obesity  \n",
      "3   21.450001            True  1461283199000  Normal weight  \n",
      "4   21.690001            True  1463097599000  Normal weight  \n",
      "..        ...             ...            ...            ...  \n",
      "62  25.440001           False  1462517015000     Overweight  \n",
      "63  25.559999           False  1462692953000     Overweight  \n",
      "64  25.610001           False  1462775984000     Overweight  \n",
      "65  25.559999           False  1462949507000     Overweight  \n",
      "66  25.139999           False  1463035373000     Overweight  \n",
      "\n",
      "[67 rows x 9 columns]\n"
     ]
    }
   ],
   "source": [
    "# Define BMI categories and labels\n",
    "bins = [0, 18.5, 24.9, 29.9, float('inf')]\n",
    "labels = ['Underweight', 'Normal weight', 'Overweight', 'Obesity']\n",
    "\n",
    "# Categorize BMI values\n",
    "df1['BMI Category'] = pd.cut(df1['BMI'], bins=bins, labels=labels, right=False)\n",
    "\n",
    "print(df1)"
   ]
  },
  {
   "cell_type": "code",
   "execution_count": 14,
   "id": "e48c1277-1524-4ddd-ba4c-f0e6c97322fb",
   "metadata": {},
   "outputs": [
    {
     "data": {
      "image/png": "[encoded data removed]",
      "text/plain": [
       "<Figure size 500x200 with 1 Axes>"
      ]
     },
     "metadata": {},
     "output_type": "display_data"
    }
   ],
   "source": [
    "import matplotlib.pyplot as plt\n",
    "# Count the number of occurrences of each category\n",
    "category_counts = df1['BMI Category'].value_counts().reindex(labels)\n",
    "\n",
    "#Plotting the bar chart\n",
    "plt.figure(figsize=(5,2))\n",
    "category_counts.plot(kind='bar', color=['blue','green','orange','red'])\n",
    "plt.title('BMI Categories')\n",
    "plt.xlabel('Category')\n",
    "plt.ylabel('Count')\n",
    "plt.xticks(rotation=45)\n",
    "plt.show()\n",
    "\n",
    "# Plot the bar chart\n",
    "#plt.figure(figsize=(5, 2))\n",
    "#category_counts.plot(kind='bar', color=['blue', 'green', 'orange', 'red'])\n",
    "#plt.title('BMI Categories')\n",
    "#plt.xlabel('Category')\n",
    "#plt.ylabel('Count')\n",
    "#plt.xticks(rotation=45)\n",
    "#plt.show()"
   ]
  },
  {
   "cell_type": "code",
   "execution_count": null,
   "id": "926fd510-593d-4ee6-9a6c-a4c94758f52b",
   "metadata": {},
   "outputs": [],
   "source": []
  }
 ],
 "metadata": {
  "kernelspec": {
   "display_name": "Python 3 (ipykernel)",
   "language": "python",
   "name": "python3"
  },
  "language_info": {
   "codemirror_mode": {
    "name": "ipython",
    "version": 3
   },
   "file_extension": ".py",
   "mimetype": "text/x-python",
   "name": "python",
   "nbconvert_exporter": "python",
   "pygments_lexer": "ipython3",
   "version": "3.11.7"
  }
 },
 "nbformat": 4,
 "nbformat_minor": 5
}
